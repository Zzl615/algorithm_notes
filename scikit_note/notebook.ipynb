{
 "cells": [
  {
   "cell_type": "markdown",
   "id": "e7d86053",
   "metadata": {},
   "source": [
    "# 第一个 Scikit-learn notebook"
   ]
  },
  {
   "cell_type": "code",
   "execution_count": null,
   "id": "1fb643f5",
   "metadata": {},
   "outputs": [
    {
     "name": "stdout",
     "output_type": "stream",
     "text": [
      "hello notebook\n"
     ]
    }
   ],
   "source": [
    "import matplotlib.pyplot as plt\n",
    "import numpy as np\n",
    "\n",
    "\n",
    "# 安装 scikit-learn 依赖库\n",
    "! pip install scikit-learn\n",
    "from sklearn import datasets, linear_model, model_selection\n",
    "\n",
    "X, y = datasets.load_diabetes(return_X_y=True)\n",
    "print(f\"X.shape: {X.shape}\")\n",
    "print(f\"X[0]: {X[0]}\")\n",
    "\n",
    "print(f\"y.shape: {y.shape}\")\n",
    "print(f\"y: {y}\")\n",
    "print(f\"y[0]: {y[0]}\")\n",
    "\n",
    "X = X[:, np.newaxis, 2]\n",
    "print(f\"X.shape: {X.shape}\")\n",
    "print(f\"X[0]): {X[0]}\")\n",
    "\n",
    "X_train, X_test, y_train, y_test = model_selection.train_test_split(X, y, test_size=0.33)\n",
    "\n",
    "model = linear_model.LinearRegression()\n",
    "model.fit(X_train, y_train)\n",
    "\n",
    "y_pred = model.predict(X_test)\n",
    "\n",
    "plt.scatter(X_test, y_test,  color='black')\n",
    "plt.plot(X_test, y_pred, color='blue', linewidth=3)\n",
    "plt.show()"
   ]
  }
 ],
 "metadata": {
  "kernelspec": {
   "display_name": "base",
   "language": "python",
   "name": "python3"
  },
  "language_info": {
   "codemirror_mode": {
    "name": "ipython",
    "version": 3
   },
   "file_extension": ".py",
   "mimetype": "text/x-python",
   "name": "python",
   "nbconvert_exporter": "python",
   "pygments_lexer": "ipython3",
   "version": "3.11.0"
  }
 },
 "nbformat": 4,
 "nbformat_minor": 5
}
