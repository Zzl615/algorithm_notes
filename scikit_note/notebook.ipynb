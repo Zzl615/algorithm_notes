{
 "cells": [
  {
   "cell_type": "markdown",
   "id": "e7d86053",
   "metadata": {},
   "source": [
    "# 开始使用 Python 和 Scikit 学习回归模型"
   ]
  },
  {
   "cell_type": "code",
   "execution_count": 1,
   "id": "1fb643f5",
   "metadata": {},
   "outputs": [
    {
     "name": "stdout",
     "output_type": "stream",
     "text": [
      "hello notebook\n"
     ]
    }
   ],
   "source": [
    "print(\"hello notebook\")"
   ]
  }
 ],
 "metadata": {
  "kernelspec": {
   "display_name": "base",
   "language": "python",
   "name": "python3"
  },
  "language_info": {
   "codemirror_mode": {
    "name": "ipython",
    "version": 3
   },
   "file_extension": ".py",
   "mimetype": "text/x-python",
   "name": "python",
   "nbconvert_exporter": "python",
   "pygments_lexer": "ipython3",
   "version": "3.11.0"
  }
 },
 "nbformat": 4,
 "nbformat_minor": 5
}
